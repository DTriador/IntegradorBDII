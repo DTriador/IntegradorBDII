{
 "cells": [
  {
   "cell_type": "code",
   "execution_count": 1,
   "id": "21e76df6-f5f3-44d4-8579-529117353380",
   "metadata": {},
   "outputs": [
    {
     "name": "stdout",
     "output_type": "stream",
     "text": [
      "C:\\Users\\danit\\opt\\instantclient_19_20\n",
      "Cargando Configuracion de usuarios\n",
      "Configuracion Finalizada\n",
      "Cargando Configuracion de empresas\n",
      "Configuracion Finalizada\n",
      "Cargando Configuracion de tipos de transacciones\n",
      "Configuracion Finalizada\n",
      "Cargando Configuracion de billeteras\n",
      "Configuracion Finalizada\n",
      "Cargando Configuracion de Contactos\n",
      "Configuracion Finalizada\n",
      "Cargando Configuracion de transacciones\n",
      "Configuracion Finalizada\n"
     ]
    }
   ],
   "source": [
    "from billetera import Billetera\n",
    "data = Billetera()"
   ]
  },
  {
   "cell_type": "code",
   "execution_count": 2,
   "id": "ef4e731e-14a6-4424-a51c-6fdacd6a9b13",
   "metadata": {},
   "outputs": [
    {
     "ename": "TypeError",
     "evalue": "users_by_last_name_and_similar_surname() got an unexpected keyword argument 'user'",
     "output_type": "error",
     "traceback": [
      "\u001b[1;31m---------------------------------------------------------------------------\u001b[0m",
      "\u001b[1;31mTypeError\u001b[0m                                 Traceback (most recent call last)",
      "Input \u001b[1;32mIn [2]\u001b[0m, in \u001b[0;36m<cell line: 3>\u001b[1;34m()\u001b[0m\n\u001b[0;32m      1\u001b[0m \u001b[38;5;66;03m#fil = data.get_users(users = 'Vil')\u001b[39;00m\n\u001b[0;32m      2\u001b[0m \u001b[38;5;66;03m#fil \u001b[39;00m\n\u001b[1;32m----> 3\u001b[0m \u001b[43mdata\u001b[49m\u001b[38;5;241;43m.\u001b[39;49m\u001b[43mget_users\u001b[49m\u001b[43m(\u001b[49m\u001b[43muser\u001b[49m\u001b[43m \u001b[49m\u001b[38;5;241;43m=\u001b[39;49m\u001b[43m \u001b[49m\u001b[38;5;124;43m'\u001b[39;49m\u001b[38;5;124;43mDaniela\u001b[39;49m\u001b[38;5;124;43m'\u001b[39;49m\u001b[43m)\u001b[49m\n",
      "File \u001b[1;32m~\\proyectoBDII\\billetera\\billetera.py:24\u001b[0m, in \u001b[0;36mBilletera.get_users\u001b[1;34m(self, id, user)\u001b[0m\n\u001b[0;32m     22\u001b[0m \u001b[38;5;28;01mdef\u001b[39;00m \u001b[38;5;21mget_users\u001b[39m(\u001b[38;5;28mself\u001b[39m,\u001b[38;5;28mid\u001b[39m \u001b[38;5;241m=\u001b[39m \u001b[38;5;28;01mNone\u001b[39;00m,user \u001b[38;5;241m=\u001b[39m \u001b[38;5;28;01mNone\u001b[39;00m):\n\u001b[0;32m     23\u001b[0m     \u001b[38;5;28;01mif\u001b[39;00m(user \u001b[38;5;129;01mand\u001b[39;00m \u001b[38;5;129;01mnot\u001b[39;00m \u001b[38;5;28mid\u001b[39m):\n\u001b[1;32m---> 24\u001b[0m         query \u001b[38;5;241m=\u001b[39m \u001b[43mUsers\u001b[49m\u001b[38;5;241;43m.\u001b[39;49m\u001b[43musers_by_last_name_and_similar_surname\u001b[49m\u001b[43m(\u001b[49m\u001b[43muser\u001b[49m\u001b[38;5;241;43m=\u001b[39;49m\u001b[43muser\u001b[49m\u001b[43m)\u001b[49m\n\u001b[0;32m     25\u001b[0m         \u001b[38;5;28mprint\u001b[39m(query)\n\u001b[0;32m     26\u001b[0m     \u001b[38;5;28;01melif\u001b[39;00m(\u001b[38;5;28mid\u001b[39m \u001b[38;5;129;01mand\u001b[39;00m \u001b[38;5;129;01mnot\u001b[39;00m user):\n",
      "\u001b[1;31mTypeError\u001b[0m: users_by_last_name_and_similar_surname() got an unexpected keyword argument 'user'"
     ]
    }
   ],
   "source": [
    "data = Billetera()"
   ]
  },
  {
   "cell_type": "code",
   "execution_count": 4,
   "id": "b0aad92e-6ae2-4944-a2d1-b2d43fb0c731",
   "metadata": {},
   "outputs": [
    {
     "ename": "AttributeError",
     "evalue": "type object 'Users' has no attribute 'users'",
     "output_type": "error",
     "traceback": [
      "\u001b[1;31m---------------------------------------------------------------------------\u001b[0m",
      "\u001b[1;31mAttributeError\u001b[0m                            Traceback (most recent call last)",
      "Input \u001b[1;32mIn [4]\u001b[0m, in \u001b[0;36m<cell line: 1>\u001b[1;34m()\u001b[0m\n\u001b[1;32m----> 1\u001b[0m users \u001b[38;5;241m=\u001b[39m \u001b[43mdata\u001b[49m\u001b[38;5;241;43m.\u001b[39;49m\u001b[43mget_users\u001b[49m\u001b[43m(\u001b[49m\u001b[43m)\u001b[49m\n\u001b[0;32m      2\u001b[0m users\n",
      "File \u001b[1;32m~\\proyectoBDII\\billetera\\billetera.py:28\u001b[0m, in \u001b[0;36mBilletera.get_users\u001b[1;34m(self, id, user)\u001b[0m\n\u001b[0;32m     26\u001b[0m     query \u001b[38;5;241m=\u001b[39m Users\u001b[38;5;241m.\u001b[39msingle_user(\u001b[38;5;28mid\u001b[39m \u001b[38;5;241m=\u001b[39m \u001b[38;5;28mid\u001b[39m)\n\u001b[0;32m     27\u001b[0m \u001b[38;5;28;01melse\u001b[39;00m:\n\u001b[1;32m---> 28\u001b[0m     query \u001b[38;5;241m=\u001b[39m \u001b[43mUsers\u001b[49m\u001b[38;5;241;43m.\u001b[39;49m\u001b[43mall_users\u001b[49m\u001b[43m(\u001b[49m\u001b[43m)\u001b[49m\n\u001b[0;32m     29\u001b[0m \u001b[38;5;28;01mreturn\u001b[39;00m \u001b[38;5;28mself\u001b[39m\u001b[38;5;241m.\u001b[39mconnection\u001b[38;5;241m.\u001b[39mexecute(query)\u001b[38;5;241m.\u001b[39mfetchall()\n",
      "File \u001b[1;32m~\\proyectoBDII\\billetera\\db_models\\users.py:25\u001b[0m, in \u001b[0;36mUsers.all_users\u001b[1;34m(cls)\u001b[0m\n\u001b[0;32m     20\u001b[0m \u001b[38;5;129m@classmethod\u001b[39m\n\u001b[0;32m     21\u001b[0m \u001b[38;5;28;01mdef\u001b[39;00m \u001b[38;5;21mall_users\u001b[39m(\u001b[38;5;28mcls\u001b[39m):\n\u001b[0;32m     22\u001b[0m     \u001b[38;5;124;03m\"\"\"\u001b[39;00m\n\u001b[0;32m     23\u001b[0m \u001b[38;5;124;03m        Devolver Usuarios\u001b[39;00m\n\u001b[0;32m     24\u001b[0m \u001b[38;5;124;03m    \"\"\"\u001b[39;00m\n\u001b[1;32m---> 25\u001b[0m     query \u001b[38;5;241m=\u001b[39m select([\u001b[38;5;28;43mcls\u001b[39;49m\u001b[38;5;241;43m.\u001b[39;49m\u001b[43musers\u001b[49m])\n\u001b[0;32m     26\u001b[0m     \u001b[38;5;28;01mreturn\u001b[39;00m query\n",
      "\u001b[1;31mAttributeError\u001b[0m: type object 'Users' has no attribute 'users'"
     ]
    }
   ],
   "source": [
    "tipos"
   ]
  },
  {
   "cell_type": "code",
   "execution_count": 4,
   "id": "ca2dc0e8-f823-4421-b504-7be2ef0fba0a",
   "metadata": {},
   "outputs": [
    {
     "data": {
      "text/plain": [
       "[(1, 1), (2, 2), (3, 3)]"
      ]
     },
     "execution_count": 4,
     "metadata": {},
     "output_type": "execute_result"
    }
   ],
   "source": [
    "tipo"
   ]
  },
  {
   "cell_type": "code",
   "execution_count": 5,
   "id": "7c4815f6-e448-4cff-8a1f-24dde9b7b9cd",
   "metadata": {},
   "outputs": [
    {
     "data": {
      "text/plain": [
       "[(1, 1)]"
      ]
     },
     "execution_count": 5,
     "metadata": {},
     "output_type": "execute_result"
    }
   ],
   "source": [
    "users"
   ]
  },
  {
   "cell_type": "code",
   "execution_count": 6,
   "id": "c80e94de-598e-4c22-88d3-9fb47d51cb75",
   "metadata": {},
   "outputs": [
    {
     "data": {
      "text/plain": [
       "[(1, 1), (2, 2), (3, 3)]"
      ]
     },
     "execution_count": 6,
     "metadata": {},
     "output_type": "execute_result"
    }
   ],
   "source": [
    "users_by_name"
   ]
  },
  {
   "cell_type": "code",
   "execution_count": 5,
   "id": "b2d27056-1f10-4dc2-9023-3ca3d36b80c9",
   "metadata": {},
   "outputs": [
    {
     "data": {
      "text/plain": [
       "[(1, 'Juan Roman', 'juanroman@email.com', 1),\n",
       " (2, 'Daniel Robins', 'danielrobins@email.com', 1),\n",
       " (3, 'Enrique Martínez', 'enriquemartinez@email.com', 2),\n",
       " (4, 'Emmanuel Frati', 'emmanuelfrati@email.com', 3)]"
      ]
     },
     "execution_count": 5,
     "metadata": {},
     "output_type": "execute_result"
    }
   ],
   "source": [
    "[]"
   ]
  },
  {
   "cell_type": "code",
   "execution_count": 3,
   "id": "0a5bb99b-7c4c-4294-84bd-18f9d48b61bc",
   "metadata": {},
   "outputs": [
    {
     "data": {
      "text/plain": [
       "[(1, 'Juan Roman', 'juanroman@email.com' 1), (2, 'Daniel Robins', 'danielrobins@email.com', 1)]"
      ]
     },
     "execution_count": 3,
     "metadata": {},
     "output_type": "execute_result"
    }
   ],
   "source": [
    "user"
   ]
  },
  {
   "cell_type": "code",
   "execution_count": 2,
   "id": "c036e837-e1a3-40ee-ba56-a0fd1c8b6946",
   "metadata": {},
   "outputs": [
    {
     "data": {
      "text/plain": [
       "[(2, 'Martin', 'Palermo', 'martinpalermo@email.com', '123456'),\n",
       " (3, 'Lionel', 'Messi', 'campeondelmundo@email.com', '123456'),\n",
       " (1, 'Nara', 'Triador', 'naratriador@gmail.com', '123456'),\n",
       " (46, 'Liliana', 'Gamester', 'lilianagamester@gmail.com', '123456')]"
      ]
     },
     "execution_count": 2,
     "metadata": {},
     "output_type": "execute_result"
    }
   ],
   "source": [
    "companies"
   ]
  },
  {
   "cell_type": "code",
   "execution_count": 2,
   "id": "7ecb7101-982c-4947-94a4-948561062a2e",
   "metadata": {},
   "outputs": [
    {
     "ename": "NameError",
     "evalue": "name 'data' is not defined",
     "output_type": "error",
     "traceback": [
      "\u001b[0;31m---------------------------------------------------------------------------\u001b[0m",
      "\u001b[0;31mNameError\u001b[0m                                 Traceback (most recent call last)",
      "Cell \u001b[0;32mIn[2], line 1\u001b[0m\n\u001b[0;32m----> 1\u001b[0m \u001b[43mdata\u001b[49m\u001b[38;5;241m.\u001b[39mupdate_user(\u001b[38;5;241m1\u001b[39m,\u001b[38;5;124m'\u001b[39m\u001b[38;5;124mJuli\u001b[39m\u001b[38;5;124m'\u001b[39m,\u001b[38;5;124m'\u001b[39m\u001b[38;5;124mTriador\u001b[39m\u001b[38;5;124m'\u001b[39m,\u001b[38;5;124m'\u001b[39m\u001b[38;5;124mdani@gmail.com\u001b[39m\u001b[38;5;124m'\u001b[39m,\u001b[38;5;124m'\u001b[39m\u001b[38;5;124m123456\u001b[39m\u001b[38;5;124m'\u001b[39m)\n\u001b[1;32m      2\u001b[0m var \u001b[38;5;241m=\u001b[39m data\u001b[38;5;241m.\u001b[39mget_users()\n\u001b[1;32m      3\u001b[0m var\n",
      "\u001b[0;31mNameError\u001b[0m: name 'data' is not defined"
     ]
    }
   ],
   "source": [
    "company"
   ]
  },
  {
   "cell_type": "code",
   "execution_count": 11,
   "id": "8a052699-ae53-4d86-a405-743a27932f3d",
   "metadata": {},
   "outputs": [
    {
     "data": {
      "text/plain": [
       "[(2, 'Martin', 'Palermo', 'martinpalermo@email.com', '123456'),\n",
       " (3, 'Lionel', 'Messi', 'campeondelmundo@email.com', '123456'),\n",
       " (1, 'Nara', 'Triador', 'naratriador@gmail.com', '123456'),\n",
       " (46, 'Liliana', 'Gamester', 'lilianagamester@gmail.com', '123456')]"
      ]
     },
     "execution_count": 11,
     "metadata": {},
     "output_type": "execute_result"
    }
   ],
   "source": [
    "user_cards"
   ]
  },
  {
   "cell_type": "code",
   "execution_count": 6,
   "id": "b38c1846-000e-4eac-97d5-2798c6fe642d",
   "metadata": {},
   "outputs": [
    {
     "data": {
      "text/plain": [
       "[(1, 'Nara Triador', 'naratriador@email.com', 1), (2, 'Martin Palermo', 'martinpalermo@email.com', 1)]"
      ]
     },
     "execution_count": 6,
     "metadata": {},
     "output_type": "execute_result"
    }
   ],
   "source": []
  },
  {
   "cell_type": "code",
   "execution_count": 7,
   "id": "681781a0-f09b-4c68-a76f-578948f4adbe",
   "metadata": {},
   "outputs": [
    {
     "ename": "AttributeError",
     "evalue": "type object 'Transactions' has no attribute 'transaction_by_user'",
     "output_type": "error",
     "traceback": [
      "\u001b[0;31m---------------------------------------------------------------------------\u001b[0m",
      "\u001b[0;31mAttributeError\u001b[0m                            Traceback (most recent call last)",
      "Cell \u001b[0;32mIn[7], line 1\u001b[0m\n\u001b[0;32m----> 1\u001b[0m transactions \u001b[38;5;241m=\u001b[39m \u001b[43mdata\u001b[49m\u001b[38;5;241;43m.\u001b[39;49m\u001b[43mget_transactions\u001b[49m\u001b[43m(\u001b[49m\u001b[43mid_user\u001b[49m\u001b[38;5;241;43m=\u001b[39;49m\u001b[38;5;241;43m1\u001b[39;49m\u001b[43m)\u001b[49m\n\u001b[1;32m      2\u001b[0m transactions\n",
      "File \u001b[0;32m~/Escritorio/v3/billetera/billetera.py:87\u001b[0m, in \u001b[0;36mBilletera.get_transactions\u001b[0;34m(self, id_transaction, id_wallet, id_user)\u001b[0m\n\u001b[1;32m     85\u001b[0m     query \u001b[38;5;241m=\u001b[39m Transactions\u001b[38;5;241m.\u001b[39mtransaction_by_wallet(id_wallet \u001b[38;5;241m=\u001b[39m id_wallet)\n\u001b[1;32m     86\u001b[0m \u001b[38;5;28;01melif\u001b[39;00m(id_user \u001b[38;5;129;01mand\u001b[39;00m \u001b[38;5;129;01mnot\u001b[39;00m id_wallet \u001b[38;5;129;01mand\u001b[39;00m \u001b[38;5;129;01mnot\u001b[39;00m id_transaction):\n\u001b[0;32m---> 87\u001b[0m     query \u001b[38;5;241m=\u001b[39m \u001b[43mTransactions\u001b[49m\u001b[38;5;241;43m.\u001b[39;49m\u001b[43mtransaction_by_user\u001b[49m(id_user \u001b[38;5;241m=\u001b[39m id_user)\n\u001b[1;32m     88\u001b[0m \u001b[38;5;28;01melse\u001b[39;00m:\n\u001b[1;32m     89\u001b[0m     query \u001b[38;5;241m=\u001b[39m Transactions\u001b[38;5;241m.\u001b[39mall_transactions()\n",
      "\u001b[0;31mAttributeError\u001b[0m: type object 'Transactions' has no attribute 'transaction_by_user'"
     ]
    }
   ],
   "source": [
    "contacts"
   ]
  },
  {
   "cell_type": "raw",
   "id": "13f350cf-a7c1-4397-81aa-654291da5bcd",
   "metadata": {},
   "source": [
    "contact"
   ]
  },
  {
   "cell_type": "code",
   "execution_count": null,
   "id": "5ea95660-c2c5-41d6-9ceb-fa03b2574a35",
   "metadata": {},
   "outputs": [],
   "source": [
    "user_contacts"
   ]
  },
  {
   "cell_type": "code",
   "execution_count": null,
   "id": "748d8ff7",
   "metadata": {},
   "outputs": [],
   "source": [
    "transactions"
   ]
  },
  {
   "cell_type": "code",
   "execution_count": null,
   "id": "84c561c0",
   "metadata": {},
   "outputs": [],
   "source": [
    "transaction"
   ]
  },
  {
   "cell_type": "code",
   "execution_count": null,
   "id": "73700104",
   "metadata": {},
   "outputs": [],
   "source": [
    "user_transactions"
   ]
  },
  {
   "cell_type": "code",
   "execution_count": null,
   "id": "add3b8fb",
   "metadata": {},
   "outputs": [],
   "source": [
    "type_transactions"
   ]
  },
  {
   "cell_type": "code",
   "execution_count": null,
   "id": "ded48c12",
   "metadata": {},
   "outputs": [],
   "source": [
    "user_and_type_transactions"
   ]
  },
  {
   "cell_type": "code",
   "execution_count": null,
   "id": "733b6e2f",
   "metadata": {},
   "outputs": [],
   "source": [
    "user_insert = data.insert_user(\"abel4\", \"mamani2\", \"abel@gmail.com4\", \"pass4\")\n",
    "after_insert_users = data.get_users()"
   ]
  },
  {
   "cell_type": "code",
   "execution_count": null,
   "id": "238d33dd",
   "metadata": {},
   "outputs": [],
   "source": [
    "after_insert_users "
   ]
  },
  {
   "cell_type": "code",
   "execution_count": null,
   "id": "4f3effbd",
   "metadata": {},
   "outputs": [],
   "source": [
    "user_update = data.update_user(10, \"cain\", \"mamani1\", \"abel1@gmail.com\", \"pass11\")\n",
    "after_update_users = data.get_users()"
   ]
  },
  {
   "cell_type": "code",
   "execution_count": null,
   "id": "583ff789",
   "metadata": {},
   "outputs": [],
   "source": [
    "after_update_users"
   ]
  },
  {
   "cell_type": "code",
   "execution_count": null,
   "id": "c66dd64e",
   "metadata": {},
   "outputs": [],
   "source": [
    "user_delete = data.delete_user(10)\n",
    "after_delete_users = data.get_users()"
   ]
  },
  {
   "cell_type": "code",
   "execution_count": null,
   "id": "68195368",
   "metadata": {},
   "outputs": [],
   "source": [
    "after_delete_users"
   ]
  }
 ],
 "metadata": {
  "kernelspec": {
   "display_name": "Python 3 (ipykernel)",
   "language": "python",
   "name": "python3"
  },
  "language_info": {
   "codemirror_mode": {
    "name": "ipython",
    "version": 3
   },
   "file_extension": ".py",
   "mimetype": "text/x-python",
   "name": "python",
   "nbconvert_exporter": "python",
   "pygments_lexer": "ipython3",
   "version": "3.9.12"
  }
 },
 "nbformat": 4,
 "nbformat_minor": 5
}
